{
  "nbformat": 4,
  "nbformat_minor": 0,
  "metadata": {
    "colab": {
      "provenance": [],
      "authorship_tag": "ABX9TyPFMymaBL3473R1VAGluhQM",
      "include_colab_link": true
    },
    "kernelspec": {
      "name": "python3",
      "display_name": "Python 3"
    },
    "language_info": {
      "name": "python"
    }
  },
  "cells": [
    {
      "cell_type": "markdown",
      "metadata": {
        "id": "view-in-github",
        "colab_type": "text"
      },
      "source": [
        "<a href=\"https://colab.research.google.com/github/gui-iha/DesafioAlunoMedia/blob/main/AlunoMedia_ED2.ipynb\" target=\"_parent\"><img src=\"https://colab.research.google.com/assets/colab-badge.svg\" alt=\"Open In Colab\"/></a>"
      ]
    },
    {
      "cell_type": "code",
      "execution_count": null,
      "metadata": {
        "colab": {
          "base_uri": "https://localhost:8080/"
        },
        "id": "y_HaG_mLlApr",
        "outputId": "acdb9a76-3ba3-4901-b10c-ea724d97f3d6"
      },
      "outputs": [
        {
          "output_type": "stream",
          "name": "stdout",
          "text": [
            "Nome do Aluno: guilherme\n",
            " Aluno guilherme tem as notas[2, 3, 5, 8] e media 4.5 o aluno esta Reprovado\n"
          ]
        }
      ],
      "source": [
        "class Aluno:\n",
        "  def __intit__(self,Nome, Nota, Situacao):\n",
        "    self.Nome = Nome\n",
        "    self.Nota = Nota\n",
        "    self.Situacao = Situacao\n",
        "\n",
        "  def calc_media(self):\n",
        "    i=0\n",
        "    nota = 0\n",
        "    Media = 0\n",
        "    while (i < len(self.Nota)):\n",
        "      nota += self.Nota[i]\n",
        "      i += 1\n",
        "    Media = nota/len(self.Nota)\n",
        "    if Media>6:\n",
        "      self.Situacao = \"Aprovado\"\n",
        "    else:\n",
        "      self.Situacao = \"Reprovado\"\n",
        "\n",
        "    return Media\n",
        "\n",
        "\n",
        "aluno1 = Aluno()\n",
        "aluno1.Nome = str(input(\"Nome do Aluno: \"))\n",
        "aluno1.Nota = [2,3,5,8]\n",
        "\n",
        "\n",
        "print(f\" Aluno {aluno1.Nome} tem as notas{aluno1.Nota} e media {aluno1.calc_media()} o aluno esta {aluno1.Situacao}\")\n"
      ]
    }
  ]
}